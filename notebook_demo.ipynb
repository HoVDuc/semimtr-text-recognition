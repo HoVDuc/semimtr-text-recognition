{
 "cells": [
  {
   "cell_type": "markdown",
   "source": [
    "# SemiMTR Demo"
   ],
   "metadata": {
    "collapsed": false
   }
  },
  {
   "cell_type": "code",
   "execution_count": null,
   "outputs": [],
   "source": [
    "from IPython.display import Image"
   ],
   "metadata": {
    "collapsed": false,
    "pycharm": {
     "name": "#%%\n"
    }
   }
  },
  {
   "cell_type": "code",
   "execution_count": null,
   "outputs": [],
   "source": [
    "#@Install SemiMTR code\n",
    "!git clone 'https://github.com/amazon-research/semimtr-text-recognition'\n",
    "% cd semimtr-text-recognition"
   ],
   "metadata": {
    "collapsed": false,
    "pycharm": {
     "name": "#%%\n"
    }
   }
  },
  {
   "cell_type": "code",
   "execution_count": null,
   "outputs": [],
   "source": [
    "#@Download a pretrained model\n",
    "!wget 'https://awscv-public-data.s3.us-west-2.amazonaws.com/semimtr/semimtr_real_l_and_u.pth'"
   ],
   "metadata": {
    "collapsed": false,
    "pycharm": {
     "name": "#%%\n"
    }
   }
  },
  {
   "cell_type": "code",
   "execution_count": null,
   "outputs": [],
   "source": [
    "#@Choose an image\n",
    "image_id = 1  #@param {type:\"slider\", min:1, max:10, step:1}\n",
    "image_url = f\"https://raw.githubusercontent.com/ku21fan/STR-Fewer-Labels/main/demo_image/{image_id}.png\"\n",
    "\n",
    "#@markdown ---\n",
    "#@markdown Or provide a url path to cropped text image (Optional).\n",
    "#@markdown ### Enter a file path:\n",
    "file_path = \"\"  #@param {type:\"string\"}\n",
    "if file_path:\n",
    "    image_url = file_path\n",
    "\n",
    "#@markdown ---\n",
    "import urllib.request\n",
    "\n",
    "file_name, headers = urllib.request.urlretrieve(image_url)\n",
    "\n",
    "# import wget\n",
    "# file_name = wget.download(image_url)\n",
    "\n",
    "\"\"\"\n",
    "#@markdown Or upload a cropped text image (Optional).\n",
    "from google.colab import files\n",
    "from matplotlib import pyplot as plt\n",
    "from io import BytesIO\n",
    "from PIL import Image\n",
    "\n",
    "uploaded = files.upload()\n",
    "im = Image.open(BytesIO(uploaded[list(uploaded.keys())[0]]))\n",
    "plt.imshow(im)\n",
    "plt.show()#\n",
    "\"\"\""
   ],
   "metadata": {
    "collapsed": false,
    "pycharm": {
     "name": "#%%\n"
    }
   }
  },
  {
   "cell_type": "code",
   "execution_count": null,
   "outputs": [],
   "source": [
    "output = !CUDA_VISIBLE_DEVICES=0 python3 demo.py --config 'configs/semimtr_finetune.yaml' --input $file_name\n",
    "print(f\"SemiMTR prediction is: {output}\")"
   ],
   "metadata": {
    "collapsed": false,
    "pycharm": {
     "name": "#%%\n"
    }
   }
  }
 ],
 "metadata": {
  "kernelspec": {
   "display_name": "Python 3",
   "language": "python",
   "name": "python3"
  },
  "language_info": {
   "codemirror_mode": {
    "name": "ipython",
    "version": 2
   },
   "file_extension": ".py",
   "mimetype": "text/x-python",
   "name": "python",
   "nbconvert_exporter": "python",
   "pygments_lexer": "ipython2",
   "version": "2.7.6"
  }
 },
 "nbformat": 4,
 "nbformat_minor": 0
}